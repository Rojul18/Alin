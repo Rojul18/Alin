{
  "nbformat": 4,
  "nbformat_minor": 0,
  "metadata": {
    "colab": {
      "provenance": []
    },
    "kernelspec": {
      "name": "python3",
      "display_name": "Python 3"
    },
    "language_info": {
      "name": "python"
    }
  },
  "cells": [
    {
      "cell_type": "markdown",
      "source": [
        "#Welcome To My Tugas\n",
        "\n",
        "Nama: Sirojul Izzeh\n",
        "\n",
        "NIM: 230411100131\n",
        "\n",
        "Disini ada beberapa tugas komputasi aljabar linear dan matrix yang dapaat kalian lihat"
      ],
      "metadata": {
        "id": "sJ2ZXYlfMkZg"
      }
    }
  ]
}